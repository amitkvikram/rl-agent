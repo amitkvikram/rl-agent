{
 "cells": [
  {
   "cell_type": "code",
   "execution_count": 1,
   "metadata": {},
   "outputs": [],
   "source": [
    "import gym\n",
    "import numpy as np\n",
    "import matplotlib.pyplot as plt\n",
    "from tqdm import tqdm\n",
    "from time import sleep\n",
    "\n",
    "env = gym.make('MountainCar-v0')"
   ]
  },
  {
   "cell_type": "markdown",
   "metadata": {},
   "source": [
    "#### Mountain Car Problem\n",
    "1. Action Space: motor = (left, neutral, right):int\n",
    "2. Observation Space: np.array([velocity, position])\n",
    "    - Veclocity = (-0.07, 0.07)\n",
    "    - Position = (-1.2, 0.6)"
   ]
  },
  {
   "cell_type": "code",
   "execution_count": 2,
   "metadata": {},
   "outputs": [
    {
     "name": "stdout",
     "output_type": "stream",
     "text": [
      "Discrete(3)\n",
      "Box(2,)\n"
     ]
    }
   ],
   "source": [
    "print(env.action_space)\n",
    "print(env.observation_space)"
   ]
  },
  {
   "cell_type": "markdown",
   "metadata": {},
   "source": [
    "### Train"
   ]
  },
  {
   "cell_type": "code",
   "execution_count": 3,
   "metadata": {},
   "outputs": [],
   "source": [
    "class State:\n",
    "    def __init__(self):\n",
    "        self.pos = None\n",
    "        self.vel = None\n",
    "\n",
    "class Agent:\n",
    "    def __init__(self, env):\n",
    "        self.velocityLimit = np.array([env.observation_space.low[1], env.observation_space.high[1]])\n",
    "        self.positionLimit = np.array([env.observation_space.low[0], env.observation_space.high[0]])\n",
    "        self.velocityStep, self.positionStep = 0.005, 0.05\n",
    "        self.velocitySpace = np.arange(self.velocityLimit[0], self.velocityLimit[1] \n",
    "                                       + self.velocityStep, self.velocityStep)\n",
    "        self.positionSpace = np.arange(self.positionLimit[0], self.positionLimit[1] \n",
    "                                       + self.positionStep, self.positionStep)\n",
    "        self.Q = np.full(shape = (len(self.velocitySpace), len(self.positionSpace), 3),\n",
    "                                       fill_value = 0.0, dtype = np.float32)\n",
    "#         self.Q = np.random.uniform(-1.0, 0.0, size = (len(self.velocitySpace),\n",
    "#                                                                     len(self.positionSpace), 3))\n",
    "        self.Policy = np.full(shape = (len(self.velocitySpace), len(self.positionSpace), 3), \n",
    "                              fill_value = 1.0/3.0)\n",
    "        self.collectiveRecord = []\n",
    "        self.success = []\n",
    "        \n",
    "    def getActionValueIndex(self, state, action):\n",
    "#         print(self.positionLimit)\n",
    "        posOffset = state[0] - self.positionLimit[0]\n",
    "        velOffset = state[1] - self.velocityLimit[0]\n",
    "        posInd = posOffset // self.positionStep\n",
    "        velInd = velOffset // self.velocityStep\n",
    "        \n",
    "        return np.array([velInd, posInd, action], dtype= np.int)\n",
    "  \n",
    "    def getAction(self, state):\n",
    "        ind = self.getActionValueIndex(state, 0)\n",
    "        p = self.Policy[ind[0], ind[1], :]\n",
    "        action = np.random.choice([0, 1, 2], size = 1, p = p)\n",
    "        return action[0]"
   ]
  },
  {
   "cell_type": "code",
   "execution_count": 4,
   "metadata": {
    "scrolled": true
   },
   "outputs": [
    {
     "name": "stdout",
     "output_type": "stream",
     "text": [
      "(30, 38, 3)\n"
     ]
    }
   ],
   "source": [
    "env = gym.make('MountainCar-v0')\n",
    "agent = Agent(env)\n",
    "env.seed(0)\n",
    "print(agent.Policy.shape)\n",
    "#--------------------#\n",
    "tempRow = np.arange(agent.Policy.shape[0]).tolist()\n",
    "tempCol = np.arange(agent.Policy.shape[1]).tolist()\n",
    "indCol = []\n",
    "indRow = []\n",
    "for ind in tempRow:\n",
    "    indCol += tempCol\n",
    "for ind in tempRow:\n",
    "    indRow += [ind for _ in tempCol]\n",
    "#-------------------#"
   ]
  },
  {
   "cell_type": "code",
   "execution_count": 5,
   "metadata": {},
   "outputs": [
    {
     "data": {
      "image/png": "[encoded data removed]",
      "text/plain": [
       "<Figure size 432x288 with 1 Axes>"
      ]
     },
     "metadata": {
      "needs_background": "light"
     },
     "output_type": "display_data"
    },
    {
     "data": {
      "image/png": "[encoded data removed]",
      "text/plain": [
       "<Figure size 432x288 with 1 Axes>"
      ]
     },
     "metadata": {
      "needs_background": "light"
     },
     "output_type": "display_data"
    }
   ],
   "source": [
    "eps = 0.8\n",
    "alpha = 0.2\n",
    "epsReduction = 0.01\n",
    "alphaDecay = 0.9997\n",
    "t = []\n",
    "t1 = []\n",
    "for _ in range(50000):\n",
    "    t.append(alpha)\n",
    "    t1.append(eps)\n",
    "    eps = max(0, eps * alphaDecay)\n",
    "    alpha = alpha*alphaDecay\n",
    "plt.plot(t)\n",
    "plt.show()\n",
    "plt.plot(t1)\n",
    "plt.show()"
   ]
  },
  {
   "cell_type": "code",
   "execution_count": 6,
   "metadata": {},
   "outputs": [
    {
     "name": "stderr",
     "output_type": "stream",
     "text": [
      "100%|██████████| 5000/5000 [01:00<00:00, 82.10it/s]\n"
     ]
    }
   ],
   "source": [
    "eps = 0.8\n",
    "alpha = 0.2\n",
    "epsReduction = 0.01\n",
    "alphaReduciton = 0.01\n",
    "alphaDecay = 0.999\n",
    "epsDecay = 0.995\n",
    "for i_eps in tqdm(range(1, 5001)):\n",
    "    state = env.reset()\n",
    "    gamma = 1.0\n",
    "    for t in range(201):\n",
    "#         if i_eps > 0: env.render()\n",
    "        ind = agent.getActionValueIndex(state, 0)\n",
    "        if np.random.random() < 1 - eps:\n",
    "                action = np.argmax(agent.Q[ind[0], ind[1], :]) \n",
    "        else:\n",
    "            action = np.random.randint(0, 3)\n",
    "                \n",
    "        nextState, reward, done, info = env.step(action)\n",
    "        ind = agent.getActionValueIndex(state, action)\n",
    "        nextInd = agent.getActionValueIndex(nextState, action)\n",
    "\n",
    "        deltaActionValue = np.subtract(np.add(reward, gamma * np.max(agent.Q[nextInd[0],\n",
    "                                                nextInd[1], :])), agent.Q[ind[0], ind[1], action])\n",
    "        agent.Q[ind[0], ind[1], action] = ((1 - 0) * agent.Q[ind[0], ind[1], action] \n",
    "                                                         + np.multiply(alpha, deltaActionValue))\n",
    "        if done: \n",
    "            if t < 199:\n",
    "                agent.success.append((i_eps, t))\n",
    "#             sleep(1)\n",
    "            agent.collectiveRecord.append(t)\n",
    "            eps = max(0, eps * epsDecay)\n",
    "            alpha = max(0, alpha * alphaDecay)\n",
    "            break\n",
    "        state = nextState\n",
    "env.close()"
   ]
  },
  {
   "cell_type": "code",
   "execution_count": 7,
   "metadata": {},
   "outputs": [],
   "source": [
    "env.close()"
   ]
  },
  {
   "cell_type": "code",
   "execution_count": 8,
   "metadata": {
    "scrolled": true
   },
   "outputs": [],
   "source": [
    "# print(agent.Q)"
   ]
  },
  {
   "cell_type": "code",
   "execution_count": 9,
   "metadata": {},
   "outputs": [],
   "source": [
    "# agent.optimalAction"
   ]
  },
  {
   "cell_type": "code",
   "execution_count": 10,
   "metadata": {},
   "outputs": [
    {
     "data": {
      "text/plain": [
       "197.42"
      ]
     },
     "execution_count": 10,
     "metadata": {},
     "output_type": "execute_result"
    }
   ],
   "source": [
    "np.mean(agent.collectiveRecord[-100:])"
   ]
  },
  {
   "cell_type": "code",
   "execution_count": 11,
   "metadata": {},
   "outputs": [
    {
     "data": {
      "text/plain": [
       "[<matplotlib.lines.Line2D at 0x1201483c8>]"
      ]
     },
     "execution_count": 11,
     "metadata": {},
     "output_type": "execute_result"
    },
    {
     "data": {
      "image/png": "[encoded data removed]",
      "text/plain": [
       "<Figure size 1368x720 with 1 Axes>"
      ]
     },
     "metadata": {
      "needs_background": "light"
     },
     "output_type": "display_data"
    }
   ],
   "source": [
    "fig, ax = plt.subplots(figsize = (19, 10))\n",
    "plt.plot(agent.collectiveRecord[:],'.')"
   ]
  },
  {
   "cell_type": "code",
   "execution_count": 12,
   "metadata": {},
   "outputs": [
    {
     "name": "stdout",
     "output_type": "stream",
     "text": [
      "199\n",
      "199\n",
      "199\n",
      "199\n",
      "199\n",
      "199\n",
      "199\n",
      "199\n",
      "199\n",
      "199\n",
      "199\n",
      "199\n",
      "199\n",
      "199\n",
      "199\n",
      "199\n",
      "199\n",
      "199\n",
      "199\n",
      "199\n",
      "199\n",
      "199\n",
      "199\n",
      "199\n",
      "199\n",
      "199\n",
      "199\n",
      "199\n",
      "199\n",
      "199\n",
      "199\n",
      "199\n",
      "199\n",
      "199\n",
      "199\n",
      "199\n",
      "199\n",
      "199\n",
      "199\n",
      "199\n",
      "199\n",
      "199\n",
      "199\n",
      "199\n",
      "199\n",
      "199\n",
      "199\n",
      "199\n",
      "199\n",
      "199\n",
      "199\n",
      "199\n",
      "199\n",
      "199\n",
      "199\n",
      "199\n",
      "199\n",
      "199\n",
      "199\n",
      "199\n",
      "199\n",
      "199\n",
      "199\n",
      "199\n",
      "199\n",
      "199\n",
      "199\n",
      "199\n",
      "199\n",
      "199\n",
      "199\n",
      "199\n",
      "199\n",
      "199\n",
      "199\n",
      "199\n",
      "199\n",
      "199\n",
      "199\n",
      "199\n",
      "199\n",
      "199\n",
      "199\n",
      "199\n",
      "199\n",
      "199\n",
      "199\n",
      "199\n",
      "199\n",
      "199\n",
      "199\n",
      "199\n",
      "199\n",
      "199\n",
      "199\n",
      "199\n",
      "199\n",
      "199\n",
      "199\n",
      "199\n",
      "199\n",
      "199\n",
      "199\n",
      "199\n",
      "199\n",
      "199\n",
      "199\n",
      "199\n",
      "199\n",
      "199\n",
      "199\n",
      "199\n",
      "199\n",
      "199\n",
      "199\n",
      "199\n",
      "199\n",
      "199\n",
      "199\n",
      "199\n",
      "199\n",
      "199\n",
      "199\n",
      "199\n",
      "199\n",
      "199\n",
      "199\n",
      "199\n",
      "199\n",
      "199\n",
      "199\n",
      "199\n",
      "199\n",
      "199\n",
      "199\n",
      "199\n",
      "199\n",
      "199\n",
      "199\n",
      "199\n",
      "199\n",
      "199\n",
      "199\n",
      "199\n",
      "199\n",
      "199\n",
      "199\n",
      "199\n",
      "199\n",
      "199\n",
      "199\n",
      "199\n",
      "199\n",
      "199\n",
      "199\n",
      "199\n",
      "199\n",
      "199\n",
      "199\n",
      "199\n",
      "199\n",
      "199\n",
      "199\n",
      "199\n",
      "199\n",
      "199\n",
      "199\n",
      "199\n",
      "199\n",
      "199\n",
      "199\n",
      "199\n",
      "199\n",
      "199\n",
      "199\n",
      "199\n",
      "199\n",
      "199\n",
      "199\n",
      "199\n",
      "199\n",
      "199\n",
      "199\n",
      "199\n",
      "199\n",
      "199\n",
      "199\n",
      "199\n",
      "199\n",
      "199\n",
      "199\n",
      "199\n",
      "199\n",
      "199\n",
      "199\n",
      "199\n",
      "199\n",
      "199\n",
      "199\n",
      "199\n",
      "199\n",
      "199\n",
      "199\n",
      "199\n",
      "199\n",
      "199\n",
      "199\n",
      "199\n",
      "199\n",
      "199\n",
      "199\n",
      "199\n",
      "199\n",
      "199\n",
      "199\n",
      "199\n",
      "199\n",
      "199\n",
      "199\n",
      "199\n",
      "199\n",
      "199\n",
      "199\n",
      "199\n",
      "199\n",
      "199\n",
      "199\n",
      "199\n",
      "199\n",
      "199\n",
      "199\n",
      "199\n",
      "199\n",
      "199\n",
      "199\n",
      "199\n",
      "199\n",
      "199\n",
      "199\n",
      "199\n",
      "199\n",
      "199\n",
      "199\n",
      "199\n",
      "199\n",
      "199\n",
      "199\n",
      "199\n",
      "199\n",
      "199\n",
      "199\n",
      "199\n",
      "199\n",
      "199\n",
      "199\n",
      "199\n",
      "199\n",
      "199\n",
      "199\n",
      "199\n",
      "199\n",
      "199\n",
      "199\n",
      "199\n",
      "199\n",
      "199\n",
      "199\n",
      "199\n",
      "199\n",
      "199\n",
      "199\n",
      "199\n",
      "199\n",
      "199\n",
      "199\n",
      "199\n",
      "199\n",
      "199\n",
      "199\n",
      "199\n",
      "199\n",
      "199\n",
      "199\n",
      "199\n",
      "199\n",
      "199\n",
      "199\n",
      "199\n",
      "199\n",
      "199\n",
      "199\n",
      "199\n",
      "199\n",
      "199\n",
      "199\n",
      "199\n",
      "199\n",
      "199\n",
      "199\n",
      "199\n",
      "199\n",
      "199\n",
      "199\n",
      "199\n",
      "199\n",
      "199\n",
      "199\n",
      "199\n",
      "199\n",
      "199\n",
      "199\n",
      "199\n",
      "199\n",
      "199\n",
      "199\n",
      "199\n",
      "199\n",
      "199\n",
      "199\n",
      "199\n",
      "199\n",
      "199\n",
      "199\n",
      "199\n",
      "199\n",
      "199\n",
      "199\n",
      "199\n",
      "199\n",
      "199\n",
      "199\n",
      "199\n",
      "199\n",
      "199\n",
      "199\n",
      "199\n",
      "199\n",
      "199\n",
      "199\n",
      "199\n",
      "199\n",
      "199\n",
      "199\n",
      "199\n",
      "199\n",
      "199\n",
      "199\n",
      "199\n",
      "199\n",
      "199\n",
      "199\n",
      "199\n",
      "199\n",
      "199\n",
      "199\n",
      "199\n",
      "199\n",
      "199\n",
      "199\n",
      "199\n",
      "199\n",
      "199\n",
      "199\n",
      "199\n",
      "199\n",
      "199\n",
      "199\n",
      "199\n",
      "199\n",
      "199\n",
      "199\n",
      "199\n",
      "199\n",
      "199\n",
      "199\n",
      "199\n",
      "199\n",
      "199\n",
      "199\n",
      "199\n",
      "199\n",
      "199\n",
      "199\n",
      "199\n",
      "199\n",
      "199\n",
      "199\n",
      "199\n",
      "199\n",
      "199\n",
      "199\n",
      "199\n",
      "199\n",
      "199\n",
      "199\n",
      "199\n",
      "199\n",
      "199\n",
      "199\n"
     ]
    }
   ],
   "source": [
    "for i_eps in (range(1, 400)):\n",
    "    state = env.reset()\n",
    "#     env.seed(i_eps)\n",
    "    gamma = 1.0\n",
    "    ind = agent.getActionValueIndex(state, 0)\n",
    "    action = np.argmax(agent.Q[ind[0], ind[1], :]) \n",
    "    \n",
    "    for t in range(201):\n",
    "        ind = agent.getActionValueIndex(state,  0)\n",
    "        nextState, reward, done, info = env.step(action)\n",
    "        nextInd = agent.getActionValueIndex(nextState, 0)\n",
    "        \n",
    "        nextAction = np.argmax(agent.Q[nextInd[0], nextInd[1], :])\n",
    "        \n",
    "        if done: \n",
    "            if t < 199:\n",
    "#                 alphaDecay = 0.999\n",
    "#                 epsDecay = 0.999\n",
    "                agent.success.append((i_eps, t))\n",
    "#             agent.Q = agent.Q * 1.01\n",
    "            agent.collectiveRecord.append(t)\n",
    "            print(t)\n",
    "            break\n",
    "        state = nextState\n",
    "        action = nextAction\n",
    "env.close()"
   ]
  },
  {
   "cell_type": "code",
   "execution_count": null,
   "metadata": {},
   "outputs": [],
   "source": []
  },
  {
   "cell_type": "code",
   "execution_count": null,
   "metadata": {},
   "outputs": [],
   "source": []
  },
  {
   "cell_type": "code",
   "execution_count": null,
   "metadata": {},
   "outputs": [],
   "source": []
  },
  {
   "cell_type": "code",
   "execution_count": null,
   "metadata": {},
   "outputs": [],
   "source": []
  },
  {
   "cell_type": "code",
   "execution_count": null,
   "metadata": {},
   "outputs": [],
   "source": []
  },
  {
   "cell_type": "code",
   "execution_count": null,
   "metadata": {},
   "outputs": [],
   "source": []
  },
  {
   "cell_type": "code",
   "execution_count": 13,
   "metadata": {},
   "outputs": [
    {
     "data": {
      "text/plain": [
       "0.5987369392383787"
      ]
     },
     "execution_count": 13,
     "metadata": {},
     "output_type": "execute_result"
    }
   ],
   "source": [
    "np.power(0.95, 10) "
   ]
  },
  {
   "cell_type": "code",
   "execution_count": 14,
   "metadata": {},
   "outputs": [
    {
     "ename": "NameError",
     "evalue": "name 'optimalAction' is not defined",
     "output_type": "error",
     "traceback": [
      "\u001b[0;31m---------------------------------------------------------------------------\u001b[0m",
      "\u001b[0;31mNameError\u001b[0m                                 Traceback (most recent call last)",
      "\u001b[0;32m<ipython-input-14-5e35244d7f6a>\u001b[0m in \u001b[0;36m<module>\u001b[0;34m\u001b[0m\n\u001b[1;32m      1\u001b[0m \u001b[0magent\u001b[0m\u001b[0;34m.\u001b[0m\u001b[0mPolicy\u001b[0m\u001b[0;34m[\u001b[0m\u001b[0;34m:\u001b[0m\u001b[0;34m,\u001b[0m \u001b[0;34m:\u001b[0m\u001b[0;34m,\u001b[0m \u001b[0;34m:\u001b[0m\u001b[0;34m]\u001b[0m \u001b[0;34m=\u001b[0m \u001b[0meps\u001b[0m\u001b[0;34m\u001b[0m\u001b[0;34m\u001b[0m\u001b[0m\n\u001b[0;32m----> 2\u001b[0;31m \u001b[0magent\u001b[0m\u001b[0;34m.\u001b[0m\u001b[0mPolicy\u001b[0m\u001b[0;34m[\u001b[0m\u001b[0mindRow\u001b[0m\u001b[0;34m,\u001b[0m \u001b[0mindCol\u001b[0m\u001b[0;34m,\u001b[0m \u001b[0moptimalAction\u001b[0m\u001b[0;34m.\u001b[0m\u001b[0mflatten\u001b[0m\u001b[0;34m(\u001b[0m\u001b[0;34m)\u001b[0m\u001b[0;34m.\u001b[0m\u001b[0mtolist\u001b[0m\u001b[0;34m(\u001b[0m\u001b[0;34m)\u001b[0m\u001b[0;34m]\u001b[0m \u001b[0;34m=\u001b[0m \u001b[0;36m1\u001b[0m \u001b[0;34m-\u001b[0m \u001b[0;36m2\u001b[0m\u001b[0;34m*\u001b[0m\u001b[0meps\u001b[0m\u001b[0;34m\u001b[0m\u001b[0;34m\u001b[0m\u001b[0m\n\u001b[0m",
      "\u001b[0;31mNameError\u001b[0m: name 'optimalAction' is not defined"
     ]
    }
   ],
   "source": [
    "agent.Policy[:, :, :] = eps\n",
    "agent.Policy[indRow, indCol, optimalAction.flatten().tolist()] = 1 - 2*eps"
   ]
  },
  {
   "cell_type": "code",
   "execution_count": null,
   "metadata": {},
   "outputs": [],
   "source": [
    "agent.success[:]"
   ]
  },
  {
   "cell_type": "code",
   "execution_count": null,
   "metadata": {},
   "outputs": [],
   "source": []
  }
 ],
 "metadata": {
  "kernelspec": {
   "display_name": "Python 3",
   "language": "python",
   "name": "python3"
  },
  "language_info": {
   "codemirror_mode": {
    "name": "ipython",
    "version": 3
   },
   "file_extension": ".py",
   "mimetype": "text/x-python",
   "name": "python",
   "nbconvert_exporter": "python",
   "pygments_lexer": "ipython3",
   "version": "3.6.8"
  }
 },
 "nbformat": 4,
 "nbformat_minor": 2
}
