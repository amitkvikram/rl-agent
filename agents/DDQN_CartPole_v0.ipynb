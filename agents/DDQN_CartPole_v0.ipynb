{
  "nbformat": 4,
  "nbformat_minor": 0,
  "metadata": {
    "colab": {
      "name": "DDQN-CartPole-v0",
      "version": "0.3.2",
      "provenance": [],
      "collapsed_sections": []
    },
    "kernelspec": {
      "name": "python3",
      "display_name": "Python 3"
    },
    "accelerator": "GPU"
  },
  "cells": [
    {
      "cell_type": "code",
      "metadata": {
        "id": "2YGaAiHiRfGe",
        "colab_type": "code",
        "colab": {}
      },
      "source": [
        "from __future__ import absolute_import, division, print_function, unicode_literals\n",
        "\n",
        "!pip install -q tensorflow-gpu==2.0.0-beta1\n",
        "import tensorflow as tf\n",
        "\n",
        "tf.keras.backend.clear_session()  # For easy reset of notebook state."
      ],
      "execution_count": 0,
      "outputs": []
    },
    {
      "cell_type": "code",
      "metadata": {
        "id": "EPYEt5C15tOJ",
        "colab_type": "code",
        "colab": {}
      },
      "source": [
        "import gym\n",
        "import numpy as np\n",
        "import matplotlib.pyplot as plt\n",
        "from tqdm import tqdm\n",
        "from time import sleep\n",
        "import time\n",
        "from scipy.special import softmax\n",
        "from tensorflow import keras\n",
        "from tensorflow.keras import backend\n",
        "# np.random.seed(0)"
      ],
      "execution_count": 0,
      "outputs": []
    },
    {
      "cell_type": "code",
      "metadata": {
        "id": "yLxoCX3I51XF",
        "colab_type": "code",
        "colab": {}
      },
      "source": [
        "class Step:\n",
        "    def __init__(self, state, action, reward, nextState, done):\n",
        "        self.state = state\n",
        "        self.action = action\n",
        "        self.reward = reward\n",
        "        self.next_state = nextState\n",
        "        self.done = done\n",
        "        \n",
        "    def __str__(self):\n",
        "        return \"{}, {}, {}, {}, {}\".format(self.state, self.action, self.reward, self.next_state, self.done)\n",
        "    \n",
        "class ReplayMemory:\n",
        "    def __init__(self, max_buffer_size):\n",
        "        self.max_buffer_size = max_buffer_size\n",
        "        self.buffer = np.array([Step(np.array([0, 1]), 1, 2, np.array([0, 1]), False) for _ in range(self.max_buffer_size)])\n",
        "        self.buffer_size = 0\n",
        "    \n",
        "    def add(self, new_data):\n",
        "#         print(\"Add in memory = \", len(new_data))\n",
        "        assert self.buffer_size <= self.max_buffer_size\n",
        "        assert len(new_data) <= self.max_buffer_size\n",
        "        if self.buffer_size + len(new_data) > self.max_buffer_size:\n",
        "            start_ind = len(new_data) - (self.max_buffer_size - self.buffer_size)\n",
        "            new_buffer_size = self.buffer_size - start_ind\n",
        "            self.buffer[: new_buffer_size] = self.buffer[start_ind : self.buffer_size]\n",
        "            self.buffer_size = new_buffer_size\n",
        "         \n",
        "        self.buffer[self.buffer_size : self.buffer_size + len(new_data)] = new_data\n",
        "        self.buffer_size = self.buffer_size + len(new_data)\n",
        "        \n",
        "    def sample(self, batch_size):\n",
        "        indices = np.random.randint(0, self.buffer_size, size = batch_size)\n",
        "        samples = self.buffer[indices, ]\n",
        "        \n",
        "        states = np.array([sample.state for sample in samples])\n",
        "        actions = np.array([[sample.action] for sample in samples])\n",
        "        rewards = np.array([[sample.reward] for sample in samples])\n",
        "        nextStates = np.array([sample.next_state for sample in samples])\n",
        "        dones = np.array([[sample.done] for sample in samples])\n",
        "        \n",
        "        return states, actions, rewards, nextStates, dones\n",
        "        \n",
        "\n",
        "class DQN:\n",
        "    def __init__(self, max_buffer_size):\n",
        "        self.memory = ReplayMemory(max_buffer_size)\n",
        "        \n",
        "    def initPredictionNetwork(self, inputSize, outputSize):\n",
        "        inputs = tf.keras.Input(shape = (inputSize, ))\n",
        "        f1 = tf.keras.layers.Dense(16*2, activation = 'relu')(inputs)\n",
        "        f1 = tf.keras.layers.Dense(16*2, activation = 'relu')(f1)\n",
        "        outputs = tf.keras.layers.Dense(outputSize, activation = 'linear')(f1)\n",
        "        self.prediction_model = tf.keras.Model(inputs = inputs, outputs = outputs, name = \"prediction_model\")\n",
        "    \n",
        "    def initTargetNetwork(self, inputSize, outputSize):\n",
        "        inputs = tf.keras.Input(shape = (inputSize, ))\n",
        "        f1 = tf.keras.layers.Dense(16*2, activation = 'relu')(inputs)\n",
        "        f1 = tf.keras.layers.Dense(16*2, activation = 'relu')(f1)\n",
        "        outputs = tf.keras.layers.Dense(outputSize, activation = 'linear')(f1)\n",
        "        self.target_model = tf.keras.Model(inputs = inputs, outputs = outputs, name = \"target_model\")\n",
        "#         self.target_model = tf.keras.models.clone_model(self.prediction_model)\n",
        "#         self.updateTargetNetwork()\n",
        "    \n",
        "    def updateTargetNetwork(self):\n",
        "        self.target_model.set_weights(self.prediction_model.get_weights())"
      ],
      "execution_count": 0,
      "outputs": []
    },
    {
      "cell_type": "code",
      "metadata": {
        "id": "O7nfLBvft4Wm",
        "colab_type": "code",
        "outputId": "c617d3c8-7331-4b82-aeb5-02bcebb4e706",
        "colab": {
          "base_uri": "https://localhost:8080/",
          "height": 51
        }
      },
      "source": [
        "env = gym.make('CartPole-v0')\n",
        "print(env.action_space)\n",
        "print(env.observation_space)"
      ],
      "execution_count": 0,
      "outputs": [
        {
          "output_type": "stream",
          "text": [
            "Discrete(2)\n",
            "Box(4,)\n"
          ],
          "name": "stdout"
        }
      ]
    },
    {
      "cell_type": "code",
      "metadata": {
        "id": "OtST3ZYIIpe9",
        "colab_type": "code",
        "outputId": "848bed6f-3bba-4c56-ac60-aa8735e8cd24",
        "colab": {
          "base_uri": "https://localhost:8080/",
          "height": 422
        }
      },
      "source": [
        "agent = DQN(10000)\n",
        "agent.initPredictionNetwork(inputSize = 4, outputSize = 2)\n",
        "agent.initTargetNetwork(inputSize = 4, outputSize = 2)\n",
        "env.seed(0)\n",
        "keras.utils.plot_model(agent.prediction_model, 'prediction_model.png', show_shapes=True)"
      ],
      "execution_count": 0,
      "outputs": [
        {
          "output_type": "execute_result",
          "data": {
            "image/png": "[encoded data removed]",
            "text/plain": [
              "<IPython.core.display.Image object>"
            ]
          },
          "metadata": {
            "tags": []
          },
          "execution_count": 132
        }
      ]
    },
    {
      "cell_type": "code",
      "metadata": {
        "id": "L9Q3jsc0s4AS",
        "colab_type": "code",
        "outputId": "3c1b1716-a0ab-47af-8500-bace90312ff1",
        "colab": {
          "base_uri": "https://localhost:8080/",
          "height": 422
        }
      },
      "source": [
        "keras.utils.plot_model(agent.target_model, 'target_model.png', show_shapes=True)"
      ],
      "execution_count": 0,
      "outputs": [
        {
          "output_type": "execute_result",
          "data": {
            "image/png": "[encoded data removed]",
            "text/plain": [
              "<IPython.core.display.Image object>"
            ]
          },
          "metadata": {
            "tags": []
          },
          "execution_count": 133
        }
      ]
    },
    {
      "cell_type": "code",
      "metadata": {
        "id": "HHHzAaRxqp2V",
        "colab_type": "code",
        "colab": {}
      },
      "source": [
        "def lossFunc(data, q_pred):\n",
        "    actions, y = data[:, 0], data[:, 1]\n",
        "    actions = tf.cast(actions, tf.int32)\n",
        "    oneHotIndices = tf.one_hot(actions, depth = 2, on_value = 1.0, off_value = 0.0, dtype = tf.float32)\n",
        "    pred_indices = tf.reduce_sum(tf.multiply(oneHotIndices, q_pred), axis = 1)\n",
        "    loss = tf.square(tf.subtract(tf.stop_gradient(y), pred_indices))\n",
        "    return tf.reduce_mean(loss)\n",
        "\n",
        "optimizer = keras.optimizers.Adam(learning_rate = 0.001)\n",
        "agent.prediction_model.compile(loss = lossFunc, optimizer = optimizer)\n",
        "agent.target_model.compile(loss = lossFunc, optimizer = optimizer)\n"
      ],
      "execution_count": 0,
      "outputs": []
    },
    {
      "cell_type": "code",
      "metadata": {
        "id": "ALc49TSkTSkD",
        "colab_type": "code",
        "outputId": "27b258c8-7962-437a-f6bb-a9a019af71dc",
        "colab": {
          "base_uri": "https://localhost:8080/",
          "height": 1000
        }
      },
      "source": [
        "# %matplotlib notebook\n",
        "\n",
        "agent.rewardRecord = []\n",
        "agent.averageReward = []\n",
        "agent.eps = 1.0\n",
        "agent.epsDecay = 0.995\n",
        "agent.prediction_model.optimizer.lr = 0.001\n",
        "agent.alphaDecay  = .9995\n",
        "agent.numEpisodes = 0\n",
        "agent.train_history = {'loss': []}\n",
        "\n",
        "def applyGD(agent):\n",
        "    states, actions, rewards, nextStates, dones = agent.memory.sample(10 * agent.batch_size)\n",
        "    q_target = agent.target_model.predict(nextStates)\n",
        "    q_predict = agent.prediction_model.predict(nextStates)\n",
        "    #Double Q Learning\n",
        "    max_actions = np.argmax(q_predict, axis = 1)\n",
        "    one_hot_actions = np.zeros((len(max_actions), 2))\n",
        "    one_hot_actions[np.arange(len(max_actions)), max_actions] = 1.0\n",
        "    q_target_max_actions = np.sum(np.multiply(one_hot_actions, q_target), axis = 1)\n",
        "    \n",
        "    target = rewards.flatten() + q_target_max_actions\n",
        "    target[dones.flatten()] = rewards.flatten()[dones.flatten()]\n",
        "    target = target.reshape((-1, 1))\n",
        "    history = agent.prediction_model.fit(states, y = np.append(actions, target, axis= 1), epochs = 1, \n",
        "                               verbose = 0, batch_size= agent.batch_size)\n",
        "    agent.train_history['loss'] += (history.history['loss'])\n",
        "\n",
        "\n",
        "def playEpisode(agent):\n",
        "    currData = []\n",
        "    state = env.reset()\n",
        "    for t in range(200):\n",
        "        if np.random.random() < 1 - agent.eps: \n",
        "            action = np.argmax(agent.prediction_model.predict(np.array([state[0], state[1], state[2], state[3]]).reshape(1, 4)))\n",
        "        else: action = np.random.randint(0, 2)\n",
        "\n",
        "        nextState, reward, done, info = env.step(action)\n",
        "        \n",
        "        if done:\n",
        "            if t < 199: \n",
        "                agent.memory.add([Step(state, action, reward, nextState, True)])\n",
        "            agent.memory.add([Step(state, action, reward, nextState, False)])\n",
        "            agent.numEpisodes += 1\n",
        "            agent.rewardRecord.append(t)\n",
        "            agent.eps = max(0.01, agent.eps * agent.epsDecay)\n",
        "\n",
        "            break\n",
        "          \n",
        "        agent.memory.add([Step(state, action, reward, nextState, False)])\n",
        "        state = nextState\n",
        "    \n",
        "\n",
        "agent.batch_size = 32\n",
        "numEpisodes = 10000\n",
        "\n",
        "print(\"episode : reward\")\n",
        "for i_eps in (range(numEpisodes)):\n",
        "    agent.prediction_model.optimizer.lr = agent.alphaDecay * agent.prediction_model.optimizer.lr\n",
        "    playEpisode(agent)\n",
        "    if(i_eps % 40 == 0):\n",
        "        print(\"{} : {}\".format(i_eps, np.mean(agent.rewardRecord[-100:])))\n",
        "    if agent.memory.buffer_size > agent.batch_size * 10:\n",
        "        applyGD(agent)\n",
        "        agent.updateTargetNetwork()\n"
      ],
      "execution_count": 0,
      "outputs": [
        {
          "output_type": "stream",
          "text": [
            "0 : 14.0\n",
            "40 : 19.975609756097562\n",
            "80 : 17.641975308641975\n",
            "120 : 23.67\n",
            "160 : 40.32\n",
            "200 : 58.48\n",
            "240 : 67.87\n",
            "280 : 76.55\n",
            "320 : 101.08\n",
            "360 : 138.85\n",
            "400 : 122.49\n",
            "440 : 109.48\n",
            "480 : 123.33\n",
            "520 : 172.31\n",
            "560 : 197.23\n",
            "600 : 199.0\n",
            "640 : 181.43\n",
            "680 : 157.94\n",
            "720 : 108.72\n",
            "760 : 75.73\n",
            "800 : 63.42\n",
            "840 : 45.52\n",
            "880 : 98.5\n",
            "920 : 81.96\n",
            "960 : 60.2\n",
            "1000 : 85.62\n",
            "1040 : 156.43\n",
            "1080 : 199.0\n",
            "1120 : 199.0\n",
            "1160 : 199.0\n",
            "1200 : 199.0\n",
            "1240 : 199.0\n",
            "1280 : 199.0\n",
            "1320 : 199.0\n",
            "1360 : 199.0\n",
            "1400 : 170.14\n",
            "1440 : 112.53\n",
            "1480 : 41.88\n",
            "1520 : 76.06\n",
            "1560 : 134.46\n",
            "1600 : 175.18\n",
            "1640 : 181.17\n",
            "1680 : 189.62\n",
            "1720 : 196.59\n",
            "1760 : 186.14\n",
            "1800 : 166.83\n",
            "1840 : 114.14\n",
            "1880 : 77.54\n",
            "1920 : 91.68\n",
            "1960 : 137.97\n",
            "2000 : 116.02\n",
            "2040 : 70.06\n",
            "2080 : 106.17\n",
            "2120 : 177.51\n",
            "2160 : 199.0\n",
            "2200 : 199.0\n",
            "2240 : 199.0\n",
            "2280 : 199.0\n",
            "2320 : 199.0\n",
            "2360 : 199.0\n",
            "2400 : 199.0\n",
            "2440 : 199.0\n",
            "2480 : 199.0\n",
            "2520 : 199.0\n",
            "2560 : 199.0\n",
            "2600 : 199.0\n",
            "2640 : 199.0\n",
            "2680 : 199.0\n",
            "2720 : 199.0\n",
            "2760 : 199.0\n",
            "2800 : 199.0\n",
            "2840 : 199.0\n",
            "2880 : 199.0\n",
            "2920 : 199.0\n",
            "2960 : 199.0\n",
            "3000 : 199.0\n",
            "3040 : 199.0\n",
            "3080 : 145.23\n",
            "3120 : 145.23\n",
            "3160 : 170.9\n",
            "3200 : 199.0\n",
            "3240 : 199.0\n",
            "3280 : 199.0\n",
            "3320 : 199.0\n",
            "3360 : 199.0\n",
            "3400 : 199.0\n",
            "3440 : 199.0\n",
            "3480 : 194.6\n",
            "3520 : 149.51\n",
            "3560 : 109.42\n",
            "3600 : 87.8\n",
            "3640 : 51.95\n",
            "3680 : 57.79\n",
            "3720 : 121.93\n",
            "3760 : 183.38\n",
            "3800 : 195.75\n",
            "3840 : 193.21\n",
            "3880 : 194.01\n",
            "3920 : 193.4\n",
            "3960 : 188.66\n",
            "4000 : 176.45\n",
            "4040 : 163.09\n",
            "4080 : 130.94\n",
            "4120 : 72.11\n",
            "4160 : 21.54\n",
            "4200 : 52.92\n",
            "4240 : 115.65\n",
            "4280 : 171.96\n",
            "4320 : 194.55\n",
            "4360 : 199.0\n",
            "4400 : 199.0\n",
            "4440 : 199.0\n",
            "4480 : 199.0\n",
            "4520 : 199.0\n",
            "4560 : 199.0\n",
            "4600 : 199.0\n",
            "4640 : 199.0\n",
            "4680 : 199.0\n",
            "4720 : 199.0\n",
            "4760 : 199.0\n",
            "4800 : 199.0\n",
            "4840 : 199.0\n",
            "4880 : 199.0\n",
            "4920 : 199.0\n",
            "4960 : 199.0\n",
            "5000 : 199.0\n",
            "5040 : 199.0\n",
            "5080 : 199.0\n",
            "5120 : 199.0\n",
            "5160 : 199.0\n",
            "5200 : 199.0\n",
            "5240 : 199.0\n",
            "5280 : 199.0\n",
            "5320 : 178.45\n",
            "5360 : 157.92\n",
            "5400 : 98.06\n",
            "5440 : 63.5\n",
            "5480 : 10.76\n",
            "5520 : 25.94\n",
            "5560 : 101.57\n",
            "5600 : 129.59\n",
            "5640 : 76.21\n",
            "5680 : 8.89\n",
            "5720 : 8.39\n",
            "5760 : 8.93\n",
            "5800 : 58.95\n",
            "5840 : 98.69\n",
            "5880 : 85.97\n",
            "5920 : 14.14\n",
            "5960 : 8.44\n",
            "6000 : 8.54\n",
            "6040 : 9.22\n",
            "6080 : 13.0\n",
            "6120 : 62.11\n",
            "6160 : 135.63\n",
            "6200 : 167.06\n",
            "6240 : 116.32\n",
            "6280 : 50.42\n",
            "6320 : 14.73\n",
            "6360 : 10.42\n",
            "6400 : 9.94\n",
            "6440 : 10.1\n",
            "6480 : 10.92\n",
            "6520 : 19.11\n",
            "6560 : 63.9\n",
            "6600 : 123.12\n",
            "6640 : 169.97\n",
            "6680 : 193.48\n",
            "6720 : 199.0\n",
            "6760 : 199.0\n",
            "6800 : 199.0\n",
            "6840 : 199.0\n",
            "6880 : 199.0\n",
            "6920 : 199.0\n",
            "6960 : 199.0\n",
            "7000 : 199.0\n",
            "7040 : 199.0\n",
            "7080 : 199.0\n",
            "7120 : 199.0\n",
            "7160 : 199.0\n",
            "7200 : 199.0\n",
            "7240 : 199.0\n",
            "7280 : 199.0\n",
            "7320 : 199.0\n",
            "7360 : 199.0\n",
            "7400 : 199.0\n",
            "7440 : 199.0\n",
            "7480 : 199.0\n",
            "7520 : 199.0\n",
            "7560 : 199.0\n",
            "7600 : 199.0\n",
            "7640 : 199.0\n",
            "7680 : 199.0\n",
            "7720 : 199.0\n",
            "7760 : 199.0\n",
            "7800 : 199.0\n",
            "7840 : 199.0\n",
            "7880 : 199.0\n",
            "7920 : 199.0\n",
            "7960 : 199.0\n",
            "8000 : 199.0\n",
            "8040 : 199.0\n",
            "8080 : 199.0\n",
            "8120 : 199.0\n",
            "8160 : 199.0\n",
            "8200 : 199.0\n",
            "8240 : 199.0\n",
            "8280 : 199.0\n",
            "8320 : 199.0\n",
            "8360 : 199.0\n",
            "8400 : 199.0\n",
            "8440 : 199.0\n",
            "8480 : 199.0\n",
            "8520 : 199.0\n",
            "8560 : 198.94\n",
            "8600 : 198.94\n",
            "8640 : 198.97\n",
            "8680 : 199.0\n",
            "8720 : 199.0\n",
            "8760 : 199.0\n",
            "8800 : 199.0\n",
            "8840 : 199.0\n",
            "8880 : 199.0\n",
            "8920 : 199.0\n",
            "8960 : 199.0\n",
            "9000 : 199.0\n",
            "9040 : 198.92\n",
            "9080 : 198.77\n",
            "9120 : 192.13\n",
            "9160 : 192.04\n",
            "9200 : 192.37\n",
            "9280 : 196.52\n",
            "9320 : 198.58\n",
            "9360 : 196.97\n",
            "9400 : 196.01\n",
            "9440 : 193.32\n",
            "9480 : 193.04\n",
            "9520 : 193.49\n",
            "9560 : 195.38\n",
            "9600 : 195.1\n",
            "9640 : 196.28\n",
            "9680 : 195.58\n",
            "9720 : 191.35\n",
            "9760 : 189.11\n",
            "9800 : 194.51\n",
            "9840 : 194.72\n",
            "9880 : 191.31\n",
            "9920 : 190.69\n",
            "9960 : 192.47\n"
          ],
          "name": "stdout"
        }
      ]
    },
    {
      "cell_type": "code",
      "metadata": {
        "id": "UKlSj93PrcG3",
        "colab_type": "code",
        "outputId": "227bbd76-e981-4e1a-f3dd-6deafb266759",
        "colab": {
          "base_uri": "https://localhost:8080/",
          "height": 269
        }
      },
      "source": [
        "plt.plot(agent.train_history['loss'])\n",
        "plt.show()"
      ],
      "execution_count": 0,
      "outputs": [
        {
          "output_type": "display_data",
          "data": {
            "image/png": "[encoded data removed]",
            "text/plain": [
              "<Figure size 432x288 with 1 Axes>"
            ]
          },
          "metadata": {
            "tags": []
          }
        }
      ]
    },
    {
      "cell_type": "code",
      "metadata": {
        "id": "DEaBoyoj4Ma0",
        "colab_type": "code",
        "outputId": "65758fb0-f567-4bd3-8c3e-49cb7626e826",
        "colab": {
          "base_uri": "https://localhost:8080/",
          "height": 187
        }
      },
      "source": [
        "agent.train_history['loss'][-10:]"
      ],
      "execution_count": 0,
      "outputs": [
        {
          "output_type": "execute_result",
          "data": {
            "text/plain": [
              "[17733.452824401855,\n",
              " 38.62543277740478,\n",
              " 35.610250854492186,\n",
              " 39.55772094726562,\n",
              " 39.21676521301269,\n",
              " 71260.89346694946,\n",
              " 17778.897771835327,\n",
              " 39.35868320465088,\n",
              " 53085.16419487,\n",
              " 17659.152532196043]"
            ]
          },
          "metadata": {
            "tags": []
          },
          "execution_count": 137
        }
      ]
    },
    {
      "cell_type": "code",
      "metadata": {
        "id": "75CnCapg6pCE",
        "colab_type": "code",
        "colab": {}
      },
      "source": [
        "# states, actions, rewards, nextStates, dones = agent.memory.sample(batch_size = 32)\n",
        "# agent.prediction_model.predict(states)"
      ],
      "execution_count": 0,
      "outputs": []
    },
    {
      "cell_type": "code",
      "metadata": {
        "id": "VJg4-xtnSUIG",
        "colab_type": "code",
        "outputId": "845b491c-fb89-4205-b4ad-bece0042e677",
        "colab": {
          "base_uri": "https://localhost:8080/",
          "height": 269
        }
      },
      "source": [
        "plt.plot(agent.rewardRecord)\n",
        "plt.show()"
      ],
      "execution_count": 0,
      "outputs": [
        {
          "output_type": "display_data",
          "data": {
            "image/png": "[encoded data removed]",
            "text/plain": [
              "<Figure size 432x288 with 1 Axes>"
            ]
          },
          "metadata": {
            "tags": []
          }
        }
      ]
    },
    {
      "cell_type": "markdown",
      "metadata": {
        "id": "ff-fu2tg6Fvo",
        "colab_type": "text"
      },
      "source": [
        "### Plot the mean of last 100 episode at each point"
      ]
    },
    {
      "cell_type": "code",
      "metadata": {
        "id": "cl15ySFa7gKc",
        "colab_type": "code",
        "colab": {}
      },
      "source": [
        "meanReward = []\n",
        "for i in range(len(agent.rewardRecord) -100):\n",
        "    meanReward.append(np.mean(agent.rewardRecord[i: i + 100]))"
      ],
      "execution_count": 0,
      "outputs": []
    },
    {
      "cell_type": "code",
      "metadata": {
        "id": "CzdvVdI95b5p",
        "colab_type": "code",
        "outputId": "b5d043ce-e338-4640-fc92-b2389aebffc2",
        "colab": {
          "base_uri": "https://localhost:8080/",
          "height": 286
        }
      },
      "source": [
        "plt.plot(meanReward)"
      ],
      "execution_count": 0,
      "outputs": [
        {
          "output_type": "execute_result",
          "data": {
            "text/plain": [
              "[<matplotlib.lines.Line2D at 0x7fb20e5933c8>]"
            ]
          },
          "metadata": {
            "tags": []
          },
          "execution_count": 141
        },
        {
          "output_type": "display_data",
          "data": {
            "image/png": "[encoded data removed]",
            "text/plain": [
              "<Figure size 432x288 with 1 Axes>"
            ]
          },
          "metadata": {
            "tags": []
          }
        }
      ]
    },
    {
      "cell_type": "code",
      "metadata": {
        "id": "hRZjN8Vs6OmO",
        "colab_type": "code",
        "colab": {}
      },
      "source": [
        ""
      ],
      "execution_count": 0,
      "outputs": []
    }
  ]
}