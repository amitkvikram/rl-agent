{
 "cells": [
  {
   "cell_type": "code",
   "execution_count": 28,
   "metadata": {},
   "outputs": [],
   "source": [
    "import numpy as np\n",
    "from itertools import product"
   ]
  },
  {
   "cell_type": "code",
   "execution_count": 29,
   "metadata": {},
   "outputs": [
    {
     "data": {
      "text/plain": [
       "[(1, 1), (1, 2), (1, 3), (2, 1), (2, 2), (2, 3), (3, 1), (3, 2), (3, 3)]"
      ]
     },
     "execution_count": 29,
     "metadata": {},
     "output_type": "execute_result"
    }
   ],
   "source": [
    "list(product([1, 2, 3], [1, 2, 3]))"
   ]
  },
  {
   "cell_type": "code",
   "execution_count": 56,
   "metadata": {},
   "outputs": [],
   "source": [
    "inf = np.inf\n",
    "\n",
    "class State:\n",
    "    def __init__(self, arr, player):\n",
    "        self.board = arr\n",
    "        self.player = player\n",
    "        \n",
    "    def getNextState(self, action, playerToSymbol):\n",
    "        nextState = State(self.board.copy(), \"computer\")\n",
    "        if self.player == \"computer\":\n",
    "            nextState.player = \"human\"\n",
    "        elif self.player != \"human\":\n",
    "            raise Exception(\"invalid player name.. getNextState(..)\")\n",
    "        nextState.board[action[0], action[1]] = playerToSymbol[self.player]\n",
    "        \n",
    "        return nextState\n",
    "    \n",
    "    def checkWin(self):\n",
    "        for row in self.board:\n",
    "            if row[0] != '.' and  np.sum((row == row[0])) == len(row):\n",
    "                return True\n",
    "            \n",
    "        for row in self.board.T:\n",
    "            if row[0] != '.' and np.sum((row == row[0])) == len(row):\n",
    "                return True\n",
    "            \n",
    "        s = self.board[0, 0]\n",
    "        win = (s != '.')\n",
    "        for i in range(self.board.shape[0]):\n",
    "            if self.board[i, i] != s:\n",
    "                win = False\n",
    "                break\n",
    "        \n",
    "        if win: return win\n",
    "        \n",
    "        s = self.board[0, self.board.shape[1] - 1]\n",
    "        win = (s != '.')\n",
    "        for i in range(self.board.shape[0]):\n",
    "            if self.board[i, self.board.shape[1] - i - 1] != s:\n",
    "                win = False\n",
    "                break\n",
    "        \n",
    "        return win\n",
    "    \n",
    "    def isTerminal(self):\n",
    "        self.draw = False\n",
    "        canBeDraw = True\n",
    "        for row in self.board:\n",
    "            for s in row:\n",
    "                if s == '.':\n",
    "                    canBeDraw = False\n",
    "        \n",
    "        if self.checkWin():\n",
    "            self.draw = False\n",
    "            return True\n",
    "            \n",
    "        elif canBeDraw:\n",
    "            self.draw = True\n",
    "            return True\n",
    "\n",
    "        return False\n",
    "    \n",
    "    def __hash__(self):\n",
    "        return str(self.board)\n",
    "    \n",
    "class MiniMax:\n",
    "    def __init__(self, w, h):\n",
    "        self.boardToAction = {}\n",
    "        self.w = w\n",
    "        self.h = h\n",
    "        self.playerToSymbol = {\"computer\": 'X', \"human\": '0'}\n",
    "        self.actions = list(product([i for i in range(w)], [j for j in range(h)]))\n",
    "        \n",
    "    def nextStep(self, state, alpha, beta):\n",
    "        if state.isTerminal():\n",
    "            if not state.draw:\n",
    "                if state.player == \"computer\":\n",
    "                    return -1\n",
    "                elif state.player == \"human\":\n",
    "                    return 1\n",
    "            else: \n",
    "                return 0\n",
    "        \n",
    "        pruning = False\n",
    "        if state.player == \"computer\":\n",
    "            v = -inf\n",
    "            action = (np.nan, np.nan)\n",
    "            \n",
    "            for i, j in self.actions:\n",
    "                if state.board[i, j] == '.':\n",
    "                    nextState = state.getNextState((i, j), self.playerToSymbol)\n",
    "                    value = self.nextStep(nextState, alpha, beta)  \n",
    "                    if value > v:\n",
    "                        v = value\n",
    "                        action = (i, j)\n",
    "                    alpha = max(alpha, v)\n",
    "\n",
    "                    if alpha >= beta:\n",
    "                        break\n",
    "            self.boardToAction[str(state.board)] = action\n",
    "            return v\n",
    "            \n",
    "        elif state.player == \"human\":\n",
    "            v = inf\n",
    "            for (i, j) in self.actions:\n",
    "                if state.board[i, j] == '.':\n",
    "                    nextState = state.getNextState((i, j), self.playerToSymbol)\n",
    "                    value = self.nextStep(nextState, alpha, beta)\n",
    "                    v = min(v, value)\n",
    "                    beta = min(beta, v)\n",
    "\n",
    "                    if alpha >= beta:\n",
    "                        break\n",
    "            return v\n",
    "        \n",
    "        else:\n",
    "            raise Exception(\"Invalid player name.. nextStep(..)\")\n",
    "    \n",
    "    def learn(self):\n",
    "        initialBoard = np.full((self.h, self.w), '.')\n",
    "        self.nextStep(State(initialBoard, \"computer\"), -inf, inf)\n",
    "        initialBoard = np.full((self.h, self.w), '.')\n",
    "        print(\"-- phase 1 done --\")\n",
    "        self.nextStep(State(initialBoard, \"human\"), -inf, inf)\n",
    "        print(\"-- Done --\")"
   ]
  },
  {
   "cell_type": "code",
   "execution_count": 57,
   "metadata": {},
   "outputs": [],
   "source": [
    "minimax = MiniMax(w = 3, h = 3)"
   ]
  },
  {
   "cell_type": "code",
   "execution_count": 58,
   "metadata": {},
   "outputs": [
    {
     "name": "stdout",
     "output_type": "stream",
     "text": [
      "-- phase 1 done --\n",
      "-- Done --\n"
     ]
    }
   ],
   "source": [
    "minimax.learn()"
   ]
  },
  {
   "cell_type": "code",
   "execution_count": 60,
   "metadata": {},
   "outputs": [],
   "source": [
    "class Play:\n",
    "    def __init__(self, minimax):\n",
    "        self.minimax = minimax\n",
    "    \n",
    "    def reset(self):\n",
    "        startPlayer = input(\"Who Plays First: (computer/human)\")\n",
    "        self.startPlayer = startPlayer\n",
    "        self.board = np.full((self.minimax.h, self.minimax.w), '.')\n",
    "    \n",
    "    def executeAction(self, player, action):\n",
    "        self.board[action[0], action[1]] = self.minimax.playerToSymbol[player]\n",
    "        \n",
    "    def play(self):\n",
    "        state = State(self.board, self.startPlayer)\n",
    "        while not state.isTerminal():\n",
    "            print(state.board)\n",
    "            if state.player == \"computer\":\n",
    "                action = self.minimax.boardToAction[str(state.board)]\n",
    "                state = state.getNextState(action, self.minimax.playerToSymbol)\n",
    "            else:\n",
    "                action = tuple(map(int, input(\"Enter Cell to Fill(x,y) : \").split(',')))\n",
    "                state = state.getNextState(action, self.minimax.playerToSymbol)\n",
    "        \n",
    "        print(\"-------===== RESULT ======--------\")\n",
    "        print(state.board)\n",
    "        if not state.checkWin():\n",
    "            print(\"DRAW\")\n",
    "        elif state.player == \"computer\":\n",
    "            print(\"YOU WON\")\n",
    "        else:\n",
    "            print(\"MACHINE WON\")"
   ]
  },
  {
   "cell_type": "code",
   "execution_count": 61,
   "metadata": {},
   "outputs": [],
   "source": [
    "game = Play(minimax)"
   ]
  },
  {
   "cell_type": "code",
   "execution_count": 62,
   "metadata": {},
   "outputs": [
    {
     "name": "stdout",
     "output_type": "stream",
     "text": [
      "Who Plays First: (computer/human)human\n"
     ]
    }
   ],
   "source": [
    "game.reset()"
   ]
  },
  {
   "cell_type": "code",
   "execution_count": 63,
   "metadata": {},
   "outputs": [
    {
     "name": "stdout",
     "output_type": "stream",
     "text": [
      "[['.' '.' '.']\n",
      " ['.' '.' '.']\n",
      " ['.' '.' '.']]\n",
      "Enter Cell to Fill(x,y) : 0,0\n",
      "[['0' '.' '.']\n",
      " ['.' '.' '.']\n",
      " ['.' '.' '.']]\n",
      "[['0' '.' '.']\n",
      " ['.' 'X' '.']\n",
      " ['.' '.' '.']]\n",
      "Enter Cell to Fill(x,y) : 0,2\n",
      "[['0' '.' '0']\n",
      " ['.' 'X' '.']\n",
      " ['.' '.' '.']]\n",
      "[['0' 'X' '0']\n",
      " ['.' 'X' '.']\n",
      " ['.' '.' '.']]\n",
      "Enter Cell to Fill(x,y) : 2,1\n",
      "[['0' 'X' '0']\n",
      " ['.' 'X' '.']\n",
      " ['.' '0' '.']]\n",
      "[['0' 'X' '0']\n",
      " ['X' 'X' '.']\n",
      " ['.' '0' '.']]\n",
      "Enter Cell to Fill(x,y) : 2,0\n",
      "[['0' 'X' '0']\n",
      " ['X' 'X' '.']\n",
      " ['0' '0' '.']]\n",
      "-------===== RESULT ======--------\n",
      "[['0' 'X' '0']\n",
      " ['X' 'X' 'X']\n",
      " ['0' '0' '.']]\n",
      "MACHINE WON\n"
     ]
    }
   ],
   "source": [
    "game.play()"
   ]
  },
  {
   "cell_type": "code",
   "execution_count": 65,
   "metadata": {},
   "outputs": [
    {
     "ename": "AttributeError",
     "evalue": "module 'numpy' has no attribute 'reverse'",
     "output_type": "error",
     "traceback": [
      "\u001b[0;31m---------------------------------------------------------------------------\u001b[0m",
      "\u001b[0;31mAttributeError\u001b[0m                            Traceback (most recent call last)",
      "\u001b[0;32m<ipython-input-65-aa3e5df433ae>\u001b[0m in \u001b[0;36m<module>\u001b[0;34m\u001b[0m\n\u001b[0;32m----> 1\u001b[0;31m \u001b[0mnp\u001b[0m\u001b[0;34m.\u001b[0m\u001b[0mreverse\u001b[0m\u001b[0;34m(\u001b[0m\u001b[0;34m[\u001b[0m\u001b[0;36m1\u001b[0m\u001b[0;34m,\u001b[0m \u001b[0;36m2\u001b[0m\u001b[0;34m,\u001b[0m \u001b[0;36m3\u001b[0m\u001b[0;34m]\u001b[0m\u001b[0;34m)\u001b[0m\u001b[0;34m\u001b[0m\u001b[0;34m\u001b[0m\u001b[0m\n\u001b[0m",
      "\u001b[0;31mAttributeError\u001b[0m: module 'numpy' has no attribute 'reverse'"
     ]
    }
   ],
   "source": [
    "np.reverse([1, 2, 3])"
   ]
  },
  {
   "cell_type": "code",
   "execution_count": 166,
   "metadata": {},
   "outputs": [
    {
     "name": "stdout",
     "output_type": "stream",
     "text": [
      "[['.' '.' '.']\n",
      " ['.' '.' '.']\n",
      " ['.' '.' '.']] human\n",
      "Enter Cell to Fill: x,y0,0\n",
      "[['0' '.' '.']\n",
      " ['.' '.' '.']\n",
      " ['.' '.' '.']] computer\n",
      "[['0' '.' '.']\n",
      " ['.' 'X' '.']\n",
      " ['.' '.' '.']] human\n",
      "Enter Cell to Fill: x,y2,1\n",
      "[['0' '.' '.']\n",
      " ['.' 'X' '.']\n",
      " ['.' '0' '.']] computer\n",
      "[['0' '.' '.']\n",
      " ['X' 'X' '.']\n",
      " ['.' '0' '.']] human\n",
      "Enter Cell to Fill: x,y1,2\n",
      "[['0' '.' '.']\n",
      " ['X' 'X' '0']\n",
      " ['.' '0' '.']] computer\n",
      "[['0' 'X' '.']\n",
      " ['X' 'X' '0']\n",
      " ['.' '0' '.']] human\n",
      "Enter Cell to Fill: x,y2,2\n",
      "[['0' 'X' '.']\n",
      " ['X' 'X' '0']\n",
      " ['.' '0' '0']] computer\n",
      "[['0' 'X' 'X']\n",
      " ['X' 'X' '0']\n",
      " ['.' '0' '0']] human\n",
      "Enter Cell to Fill: x,y2,0\n",
      "-------===== RESULT ======--------\n",
      "YOU WON\n"
     ]
    }
   ],
   "source": [
    "game.play()"
   ]
  },
  {
   "cell_type": "code",
   "execution_count": null,
   "metadata": {},
   "outputs": [],
   "source": []
  },
  {
   "cell_type": "code",
   "execution_count": null,
   "metadata": {},
   "outputs": [],
   "source": []
  }
 ],
 "metadata": {
  "kernelspec": {
   "display_name": "Python 3",
   "language": "python",
   "name": "python3"
  },
  "language_info": {
   "codemirror_mode": {
    "name": "ipython",
    "version": 3
   },
   "file_extension": ".py",
   "mimetype": "text/x-python",
   "name": "python",
   "nbconvert_exporter": "python",
   "pygments_lexer": "ipython3",
   "version": "3.6.8"
  }
 },
 "nbformat": 4,
 "nbformat_minor": 2
}
